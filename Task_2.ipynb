{
  "nbformat": 4,
  "nbformat_minor": 0,
  "metadata": {
    "kernelspec": {
      "display_name": "Python 3",
      "language": "python",
      "name": "python3"
    },
    "language_info": {
      "codemirror_mode": {
        "name": "ipython",
        "version": 3
      },
      "file_extension": ".py",
      "mimetype": "text/x-python",
      "name": "python",
      "nbconvert_exporter": "python",
      "pygments_lexer": "ipython3",
      "version": "3.6.0"
    },
    "colab": {
      "name": "Копия 2.3.ipynb",
      "provenance": [],
      "collapsed_sections": []
    }
  },
  "cells": [
    {
      "cell_type": "code",
      "metadata": {
        "colab": {
          "base_uri": "https://localhost:8080/",
          "height": 1000
        },
        "id": "UlAsldT6hgjm",
        "outputId": "f5687ad9-83d6-4a0a-a437-6cd34a64b2d9"
      },
      "source": [
        "import pandas as pd\n",
        "import numpy as np\n",
        "import matplotlib.pyplot as plt\n",
        "from sklearn.datasets import load_boston\n",
        "from sklearn.model_selection import train_test_split\n",
        "from sklearn.preprocessing import StandardScaler\n",
        "from sklearn.manifold import TSNE\n",
        "from sklearn.cluster import KMeans\n",
        "\n",
        "print('Задание 2.')\n",
        "\n",
        "# С помощью KMeans разбейте данные из тренировочного набора на 3 кластера,\n",
        "# используйте все признаки из датафрейма X_train.\n",
        "# Параметр max_iter должен быть равен 100, random_state сделайте равным 42.\n",
        "# Постройте еще раз диаграмму рассеяния на данных, полученных с помощью TSNE,\n",
        "# и раскрасьте точки из разных кластеров разными цветами.\n",
        "# Вычислите средние значения price и CRIM в разных кластерах.\n",
        "\n",
        "boston = load_boston()\n",
        "\n",
        "data = boston['data']\n",
        "data = data.transpose()\n",
        "\n",
        "target = boston['target']\n",
        "\n",
        "X = pd.DataFrame(data=data[12], columns=['feature_names'])\n",
        "\n",
        "Y = pd.DataFrame(target, columns=['price'])\n",
        "\n",
        "X_train, X_test, Y_train, Y_test = train_test_split(X, Y, test_size=0.2, random_state=42)\n",
        "\n",
        "scaler = StandardScaler()\n",
        "\n",
        "X_train_scaled = pd.DataFrame(scaler.fit_transform(X_train), columns=X_train.columns)\n",
        "X_test_scaled = pd.DataFrame(scaler.transform(X_test), columns=X_test.columns)\n",
        "\n",
        "tsne = TSNE(n_components=2, learning_rate=250, random_state=42)\n",
        "\n",
        "X_train_tsne = tsne.fit_transform(X_train_scaled)\n",
        "\n",
        "print('До:\\t{}'.format(X_train_scaled.shape))\n",
        "print('После:\\t{}'.format(X_train_tsne.shape))\n",
        "\n",
        "kmeans = KMeans(n_clusters=3, max_iter=100, random_state=42)\n",
        "\n",
        "labels_train = kmeans.fit_predict(X_train_scaled)\n",
        "\n",
        "plt.scatter(X_train_tsne[:, 0], X_train_tsne[:, 1], c=labels_train)\n",
        "\n",
        "plt.show()\n",
        "\n",
        "print(X_train[labels_train==0].mean())\n",
        "print(X_train[labels_train==1].mean())\n",
        "print(X_train[labels_train==2].mean())"
      ],
      "execution_count": 23,
      "outputs": [
        {
          "output_type": "stream",
          "name": "stdout",
          "text": [
            "Задание 2.\n"
          ]
        },
        {
          "output_type": "stream",
          "name": "stderr",
          "text": [
            "/usr/local/lib/python3.7/dist-packages/sklearn/utils/deprecation.py:87: FutureWarning: Function load_boston is deprecated; `load_boston` is deprecated in 1.0 and will be removed in 1.2.\n",
            "\n",
            "    The Boston housing prices dataset has an ethical problem. You can refer to\n",
            "    the documentation of this function for further details.\n",
            "\n",
            "    The scikit-learn maintainers therefore strongly discourage the use of this\n",
            "    dataset unless the purpose of the code is to study and educate about\n",
            "    ethical issues in data science and machine learning.\n",
            "\n",
            "    In this special case, you can fetch the dataset from the original\n",
            "    source::\n",
            "\n",
            "        import pandas as pd\n",
            "        import numpy as np\n",
            "\n",
            "\n",
            "        data_url = \"http://lib.stat.cmu.edu/datasets/boston\"\n",
            "        raw_df = pd.read_csv(data_url, sep=\"\\s+\", skiprows=22, header=None)\n",
            "        data = np.hstack([raw_df.values[::2, :], raw_df.values[1::2, :2]])\n",
            "        target = raw_df.values[1::2, 2]\n",
            "\n",
            "    Alternative datasets include the California housing dataset (i.e.\n",
            "    :func:`~sklearn.datasets.fetch_california_housing`) and the Ames housing\n",
            "    dataset. You can load the datasets as follows::\n",
            "\n",
            "        from sklearn.datasets import fetch_california_housing\n",
            "        housing = fetch_california_housing()\n",
            "\n",
            "    for the California housing dataset and::\n",
            "\n",
            "        from sklearn.datasets import fetch_openml\n",
            "        housing = fetch_openml(name=\"house_prices\", as_frame=True)\n",
            "\n",
            "    for the Ames housing dataset.\n",
            "    \n",
            "  warnings.warn(msg, category=FutureWarning)\n",
            "/usr/local/lib/python3.7/dist-packages/sklearn/manifold/_t_sne.py:783: FutureWarning: The default initialization in TSNE will change from 'random' to 'pca' in 1.2.\n",
            "  FutureWarning,\n"
          ]
        },
        {
          "output_type": "stream",
          "name": "stdout",
          "text": [
            "До:\t(404, 1)\n",
            "После:\t(404, 2)\n"
          ]
        },
        {
          "output_type": "display_data",
          "data": {
            "image/png": "[encoded data removed]",
            "text/plain": [
              "<Figure size 432x288 with 1 Axes>"
            ]
          },
          "metadata": {
            "needs_background": "light"
          }
        },
        {
          "output_type": "stream",
          "name": "stdout",
          "text": [
            "feature_names    6.886207\n",
            "dtype: float64\n",
            "feature_names    26.319231\n",
            "dtype: float64\n",
            "feature_names    15.209866\n",
            "dtype: float64\n"
          ]
        }
      ]
    },
    {
      "cell_type": "code",
      "metadata": {
        "id": "EI9cM-FW5Lln",
        "outputId": "05390cd2-643d-4f0a-941a-30f79c7af66b",
        "colab": {
          "base_uri": "https://localhost:8080/",
          "height": 426
        }
      },
      "source": [
        "print('Задание 3.')\n",
        "\n",
        "# Примените модель KMeans, построенную в предыдущем задании, к данным из тестового набора.\n",
        "# Вычислите средние значения price и CRIM в разных кластерах на тестовых данных.\n",
        "\n",
        "\n",
        "X_test_tsne = tsne.fit_transform(X_test_scaled)\n",
        "\n",
        "kmeans = KMeans(n_clusters=3, max_iter=100, random_state=42)\n",
        "\n",
        "labels_test = kmeans.fit_predict(X_test_scaled)\n",
        "\n",
        "plt.scatter(X_test_tsne[:, 0], X_test_tsne[:, 1], c=labels_test)\n",
        "\n",
        "plt.show()\n",
        "\n",
        "print(X_test[labels_test==0].mean())\n",
        "print(X_test[labels_test==1].mean())\n",
        "print(X_test[labels_test==2].mean())"
      ],
      "execution_count": 24,
      "outputs": [
        {
          "output_type": "stream",
          "name": "stderr",
          "text": [
            "/usr/local/lib/python3.7/dist-packages/sklearn/manifold/_t_sne.py:783: FutureWarning: The default initialization in TSNE will change from 'random' to 'pca' in 1.2.\n",
            "  FutureWarning,\n"
          ]
        },
        {
          "output_type": "display_data",
          "data": {
            "image/png": "[encoded data removed]",
            "text/plain": [
              "<Figure size 432x288 with 1 Axes>"
            ]
          },
          "metadata": {
            "needs_background": "light"
          }
        },
        {
          "output_type": "stream",
          "name": "stdout",
          "text": [
            "feature_names    6.938372\n",
            "dtype: float64\n",
            "feature_names    25.853125\n",
            "dtype: float64\n",
            "feature_names    15.294884\n",
            "dtype: float64\n"
          ]
        }
      ]
    }
  ]
}